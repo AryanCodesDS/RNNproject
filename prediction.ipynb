{
 "cells": [
  {
   "cell_type": "code",
   "execution_count": 1,
   "metadata": {},
   "outputs": [],
   "source": [
    "# Step 1: Import Libraries and Load the Model\n",
    "import numpy as np\n",
    "import tensorflow as tf\n",
    "from tensorflow.keras.datasets import imdb\n",
    "from tensorflow.keras.preprocessing import sequence\n",
    "from tensorflow.keras.models import load_model"
   ]
  },
  {
   "cell_type": "code",
   "execution_count": 2,
   "metadata": {},
   "outputs": [],
   "source": [
    "\n",
    "# Load the IMDB dataset word index\n",
    "word_index = imdb.get_word_index()\n",
    "reverse_word_index = {value: key for key, value in word_index.items()}"
   ]
  },
  {
   "cell_type": "code",
   "execution_count": 4,
   "metadata": {},
   "outputs": [
    {
     "name": "stderr",
     "output_type": "stream",
     "text": [
      "WARNING:absl:Compiled the loaded model, but the compiled metrics have yet to be built. `model.compile_metrics` will be empty until you train or evaluate the model.\n"
     ]
    },
    {
     "data": {
      "text/html": [
       "<pre style=\"white-space:pre;overflow-x:auto;line-height:normal;font-family:Menlo,'DejaVu Sans Mono',consolas,'Courier New',monospace\"><span style=\"font-weight: bold\">Model: \"sequential_3\"</span>\n",
       "</pre>\n"
      ],
      "text/plain": [
       "\u001b[1mModel: \"sequential_3\"\u001b[0m\n"
      ]
     },
     "metadata": {},
     "output_type": "display_data"
    },
    {
     "data": {
      "text/html": [
       "<pre style=\"white-space:pre;overflow-x:auto;line-height:normal;font-family:Menlo,'DejaVu Sans Mono',consolas,'Courier New',monospace\">┏━━━━━━━━━━━━━━━━━━━━━━━━━━━━━━━━━┳━━━━━━━━━━━━━━━━━━━━━━━━┳━━━━━━━━━━━━━━━┓\n",
       "┃<span style=\"font-weight: bold\"> Layer (type)                    </span>┃<span style=\"font-weight: bold\"> Output Shape           </span>┃<span style=\"font-weight: bold\">       Param # </span>┃\n",
       "┡━━━━━━━━━━━━━━━━━━━━━━━━━━━━━━━━━╇━━━━━━━━━━━━━━━━━━━━━━━━╇━━━━━━━━━━━━━━━┩\n",
       "│ embedding_2 (<span style=\"color: #0087ff; text-decoration-color: #0087ff\">Embedding</span>)         │ (<span style=\"color: #00af00; text-decoration-color: #00af00\">32</span>, <span style=\"color: #00af00; text-decoration-color: #00af00\">500</span>, <span style=\"color: #00af00; text-decoration-color: #00af00\">128</span>)         │     <span style=\"color: #00af00; text-decoration-color: #00af00\">1,280,000</span> │\n",
       "├─────────────────────────────────┼────────────────────────┼───────────────┤\n",
       "│ simple_rnn_2 (<span style=\"color: #0087ff; text-decoration-color: #0087ff\">SimpleRNN</span>)        │ (<span style=\"color: #00af00; text-decoration-color: #00af00\">32</span>, <span style=\"color: #00af00; text-decoration-color: #00af00\">128</span>)              │        <span style=\"color: #00af00; text-decoration-color: #00af00\">32,896</span> │\n",
       "├─────────────────────────────────┼────────────────────────┼───────────────┤\n",
       "│ dense_2 (<span style=\"color: #0087ff; text-decoration-color: #0087ff\">Dense</span>)                 │ (<span style=\"color: #00af00; text-decoration-color: #00af00\">32</span>, <span style=\"color: #00af00; text-decoration-color: #00af00\">1</span>)                │           <span style=\"color: #00af00; text-decoration-color: #00af00\">129</span> │\n",
       "└─────────────────────────────────┴────────────────────────┴───────────────┘\n",
       "</pre>\n"
      ],
      "text/plain": [
       "┏━━━━━━━━━━━━━━━━━━━━━━━━━━━━━━━━━┳━━━━━━━━━━━━━━━━━━━━━━━━┳━━━━━━━━━━━━━━━┓\n",
       "┃\u001b[1m \u001b[0m\u001b[1mLayer (type)                   \u001b[0m\u001b[1m \u001b[0m┃\u001b[1m \u001b[0m\u001b[1mOutput Shape          \u001b[0m\u001b[1m \u001b[0m┃\u001b[1m \u001b[0m\u001b[1m      Param #\u001b[0m\u001b[1m \u001b[0m┃\n",
       "┡━━━━━━━━━━━━━━━━━━━━━━━━━━━━━━━━━╇━━━━━━━━━━━━━━━━━━━━━━━━╇━━━━━━━━━━━━━━━┩\n",
       "│ embedding_2 (\u001b[38;5;33mEmbedding\u001b[0m)         │ (\u001b[38;5;34m32\u001b[0m, \u001b[38;5;34m500\u001b[0m, \u001b[38;5;34m128\u001b[0m)         │     \u001b[38;5;34m1,280,000\u001b[0m │\n",
       "├─────────────────────────────────┼────────────────────────┼───────────────┤\n",
       "│ simple_rnn_2 (\u001b[38;5;33mSimpleRNN\u001b[0m)        │ (\u001b[38;5;34m32\u001b[0m, \u001b[38;5;34m128\u001b[0m)              │        \u001b[38;5;34m32,896\u001b[0m │\n",
       "├─────────────────────────────────┼────────────────────────┼───────────────┤\n",
       "│ dense_2 (\u001b[38;5;33mDense\u001b[0m)                 │ (\u001b[38;5;34m32\u001b[0m, \u001b[38;5;34m1\u001b[0m)                │           \u001b[38;5;34m129\u001b[0m │\n",
       "└─────────────────────────────────┴────────────────────────┴───────────────┘\n"
      ]
     },
     "metadata": {},
     "output_type": "display_data"
    },
    {
     "data": {
      "text/html": [
       "<pre style=\"white-space:pre;overflow-x:auto;line-height:normal;font-family:Menlo,'DejaVu Sans Mono',consolas,'Courier New',monospace\"><span style=\"font-weight: bold\"> Total params: </span><span style=\"color: #00af00; text-decoration-color: #00af00\">1,313,027</span> (5.01 MB)\n",
       "</pre>\n"
      ],
      "text/plain": [
       "\u001b[1m Total params: \u001b[0m\u001b[38;5;34m1,313,027\u001b[0m (5.01 MB)\n"
      ]
     },
     "metadata": {},
     "output_type": "display_data"
    },
    {
     "data": {
      "text/html": [
       "<pre style=\"white-space:pre;overflow-x:auto;line-height:normal;font-family:Menlo,'DejaVu Sans Mono',consolas,'Courier New',monospace\"><span style=\"font-weight: bold\"> Trainable params: </span><span style=\"color: #00af00; text-decoration-color: #00af00\">1,313,025</span> (5.01 MB)\n",
       "</pre>\n"
      ],
      "text/plain": [
       "\u001b[1m Trainable params: \u001b[0m\u001b[38;5;34m1,313,025\u001b[0m (5.01 MB)\n"
      ]
     },
     "metadata": {},
     "output_type": "display_data"
    },
    {
     "data": {
      "text/html": [
       "<pre style=\"white-space:pre;overflow-x:auto;line-height:normal;font-family:Menlo,'DejaVu Sans Mono',consolas,'Courier New',monospace\"><span style=\"font-weight: bold\"> Non-trainable params: </span><span style=\"color: #00af00; text-decoration-color: #00af00\">0</span> (0.00 B)\n",
       "</pre>\n"
      ],
      "text/plain": [
       "\u001b[1m Non-trainable params: \u001b[0m\u001b[38;5;34m0\u001b[0m (0.00 B)\n"
      ]
     },
     "metadata": {},
     "output_type": "display_data"
    },
    {
     "data": {
      "text/html": [
       "<pre style=\"white-space:pre;overflow-x:auto;line-height:normal;font-family:Menlo,'DejaVu Sans Mono',consolas,'Courier New',monospace\"><span style=\"font-weight: bold\"> Optimizer params: </span><span style=\"color: #00af00; text-decoration-color: #00af00\">2</span> (12.00 B)\n",
       "</pre>\n"
      ],
      "text/plain": [
       "\u001b[1m Optimizer params: \u001b[0m\u001b[38;5;34m2\u001b[0m (12.00 B)\n"
      ]
     },
     "metadata": {},
     "output_type": "display_data"
    }
   ],
   "source": [
    "# Load the pre-trained model with ReLU activation\n",
    "model = load_model('rnn.h5')\n",
    "model.summary()"
   ]
  },
  {
   "cell_type": "code",
   "execution_count": 5,
   "metadata": {},
   "outputs": [
    {
     "data": {
      "text/plain": [
       "[array([[-0.08022799,  0.00452225,  0.04970476, ...,  0.01351497,\n",
       "          0.05051428, -0.04198766],\n",
       "        [-0.01318282, -0.0222483 ,  0.03917045, ...,  0.06282966,\n",
       "         -0.01398947, -0.00355205],\n",
       "        [-0.04324891, -0.00267884,  0.00680852, ..., -0.0212673 ,\n",
       "         -0.00686079,  0.00848697],\n",
       "        ...,\n",
       "        [ 0.00253232, -0.02128781, -0.00791379, ..., -0.02097652,\n",
       "          0.02758798,  0.00733752],\n",
       "        [-0.05050888, -0.04662101, -0.02453818, ..., -0.05683849,\n",
       "          0.01356206,  0.01112362],\n",
       "        [-0.02680956, -0.00136942,  0.06705992, ...,  0.05673334,\n",
       "          0.00620915,  0.01260085]], dtype=float32),\n",
       " array([[-0.07700664, -0.05054538, -0.02239638, ..., -0.08890785,\n",
       "          0.10545332, -0.0298562 ],\n",
       "        [ 0.08964082, -0.06050692, -0.01879603, ..., -0.05603729,\n",
       "          0.23533311, -0.1169136 ],\n",
       "        [-0.05563522, -0.058126  ,  0.01077936, ...,  0.05950123,\n",
       "         -0.17343093,  0.04933821],\n",
       "        ...,\n",
       "        [-0.01760294,  0.01591779, -0.13225448, ...,  0.0820412 ,\n",
       "         -0.1490625 ,  0.06792997],\n",
       "        [-0.14161669, -0.07081189,  0.14552313, ...,  0.10760623,\n",
       "          0.16140643, -0.00040636],\n",
       "        [ 0.06673038,  0.08611868,  0.10815437, ...,  0.0734973 ,\n",
       "         -0.21394387, -0.00777872]], dtype=float32),\n",
       " array([[ 0.09559406,  0.14170124, -0.02188437, ...,  0.07885202,\n",
       "          0.0324533 ,  0.06741215],\n",
       "        [ 0.17445943, -0.10436139,  0.11938675, ..., -0.03074666,\n",
       "         -0.07047914, -0.04509869],\n",
       "        [ 0.17612189, -0.05918645,  0.08156592, ..., -0.05295663,\n",
       "          0.07308414, -0.03362377],\n",
       "        ...,\n",
       "        [ 0.12695101, -0.02486993,  0.02629473, ...,  0.05081959,\n",
       "         -0.12187804,  0.01815343],\n",
       "        [ 0.21900678, -0.05671126,  0.05517305, ..., -0.01123317,\n",
       "         -0.01880966, -0.06821463],\n",
       "        [-0.03845114, -0.07394787, -0.08306643, ..., -0.12989962,\n",
       "         -0.1525286 ,  0.00035248]], dtype=float32),\n",
       " array([ 1.3483282e-02,  3.3231564e-03, -1.5365321e-03, -1.8109489e-02,\n",
       "         2.7698644e-03, -6.7120097e-03,  1.3349166e-02,  6.7651534e-04,\n",
       "        -3.0608070e-03, -7.6088882e-03, -3.8473427e-04,  2.3103126e-03,\n",
       "         9.6270796e-03,  7.9562897e-03,  2.2689613e-02, -6.1988179e-03,\n",
       "         3.3449649e-03,  9.1032740e-03,  1.0806978e-02, -1.1341731e-02,\n",
       "         2.1416489e-03,  9.5185702e-04, -2.7184384e-02, -2.2715058e-02,\n",
       "        -1.3414202e-02, -7.5716227e-03,  1.1273052e-02, -2.3205706e-03,\n",
       "         1.2368407e-02, -4.1745364e-04,  5.1492108e-03, -9.3194749e-03,\n",
       "         4.2381641e-03,  1.2748299e-02, -4.6767949e-04,  2.6437712e-03,\n",
       "         7.8412183e-03,  8.3085969e-03, -2.9159791e-03,  7.3808094e-04,\n",
       "        -1.5690373e-02, -7.5800545e-03, -1.2228242e-02,  4.0484122e-03,\n",
       "        -1.1510442e-02, -2.0113408e-03,  3.3976175e-04,  6.5567279e-03,\n",
       "         9.8847151e-03,  5.0864206e-04, -1.0965612e-02,  8.1793051e-03,\n",
       "        -5.0979392e-03,  1.6442802e-02,  1.9030623e-02,  9.0249954e-03,\n",
       "        -1.1272300e-02, -4.8490665e-03, -7.6427860e-03,  1.4290418e-02,\n",
       "         2.5156566e-03,  1.7249452e-02, -1.2718352e-03, -7.6088281e-03,\n",
       "        -4.6898564e-03, -2.0683089e-03,  1.3212772e-02, -1.0052153e-02,\n",
       "        -1.7792782e-02,  4.6782377e-03, -2.4731873e-02,  2.9137621e-03,\n",
       "         1.2904545e-02, -9.2244614e-03,  1.7176682e-02,  1.4272072e-02,\n",
       "         3.3612092e-04,  2.1252690e-02, -6.9175507e-03, -7.8767864e-03,\n",
       "        -2.2674430e-02, -2.5881704e-05,  7.8376820e-03,  1.5217866e-02,\n",
       "         1.8833224e-02, -3.4880242e-03,  2.0730503e-02, -1.0675312e-02,\n",
       "         1.6290817e-02,  5.0772455e-02,  1.0091879e-02, -1.0729375e-03,\n",
       "         1.4452771e-03, -5.4172135e-04, -1.0107986e-02, -7.2539658e-03,\n",
       "        -5.4263826e-03,  2.1942619e-03, -2.1355607e-02, -1.2512645e-02,\n",
       "         2.3209685e-03, -8.6592641e-03,  1.7328639e-02, -2.4924964e-02,\n",
       "        -1.3936315e-02,  1.1792054e-02,  1.2880035e-02, -1.3742381e-02,\n",
       "        -1.9308681e-02,  1.8570952e-02,  1.5652589e-02, -1.5678816e-02,\n",
       "        -3.0206759e-03, -1.4375386e-02,  1.2406408e-02,  3.1812105e-04,\n",
       "        -1.8051526e-02,  1.9468028e-03,  5.0991755e-03, -2.3268294e-02,\n",
       "         1.1300934e-03,  9.7383037e-03, -5.9493827e-03, -1.1972058e-02,\n",
       "         1.1524471e-02, -1.0485159e-02,  2.3100041e-02, -5.4316246e-04],\n",
       "       dtype=float32),\n",
       " array([[-0.17201717],\n",
       "        [ 0.2166539 ],\n",
       "        [-0.0540701 ],\n",
       "        [-0.0985897 ],\n",
       "        [ 0.11354843],\n",
       "        [-0.17885825],\n",
       "        [ 0.0698721 ],\n",
       "        [ 0.10694043],\n",
       "        [ 0.12582506],\n",
       "        [-0.01984209],\n",
       "        [ 0.0957035 ],\n",
       "        [-0.28022194],\n",
       "        [ 0.08073435],\n",
       "        [ 0.06720032],\n",
       "        [ 0.22994636],\n",
       "        [ 0.1260739 ],\n",
       "        [-0.02461296],\n",
       "        [ 0.25749898],\n",
       "        [-0.20676869],\n",
       "        [ 0.1058341 ],\n",
       "        [ 0.02123397],\n",
       "        [-0.4682936 ],\n",
       "        [ 0.05064704],\n",
       "        [ 0.1473878 ],\n",
       "        [-0.18223715],\n",
       "        [ 0.21487004],\n",
       "        [-0.10597152],\n",
       "        [ 0.44775686],\n",
       "        [ 0.19447325],\n",
       "        [-0.2621877 ],\n",
       "        [-0.13164286],\n",
       "        [ 0.01845664],\n",
       "        [-0.32452604],\n",
       "        [-0.13285452],\n",
       "        [ 0.42868966],\n",
       "        [-0.05323047],\n",
       "        [-0.1118809 ],\n",
       "        [-0.23417032],\n",
       "        [-0.2048689 ],\n",
       "        [ 0.16096587],\n",
       "        [-0.05398654],\n",
       "        [-0.21369375],\n",
       "        [-0.40852505],\n",
       "        [-0.19666287],\n",
       "        [-0.14315543],\n",
       "        [-0.03240445],\n",
       "        [-0.1271812 ],\n",
       "        [-0.02019546],\n",
       "        [ 0.1463108 ],\n",
       "        [ 0.02089047],\n",
       "        [ 0.02990711],\n",
       "        [-0.0481163 ],\n",
       "        [-0.24581768],\n",
       "        [-0.10377347],\n",
       "        [-0.13785994],\n",
       "        [-0.24199712],\n",
       "        [ 0.14032897],\n",
       "        [-0.11606418],\n",
       "        [ 0.00185368],\n",
       "        [ 0.2750601 ],\n",
       "        [-0.32541007],\n",
       "        [ 0.22685061],\n",
       "        [-0.04092921],\n",
       "        [-0.14468217],\n",
       "        [-0.03170004],\n",
       "        [-0.1770815 ],\n",
       "        [-0.39607233],\n",
       "        [ 0.00406049],\n",
       "        [-0.35430133],\n",
       "        [ 0.18112694],\n",
       "        [-0.05811683],\n",
       "        [-0.12781376],\n",
       "        [ 0.03827117],\n",
       "        [-0.19189394],\n",
       "        [-0.4999933 ],\n",
       "        [ 0.07611807],\n",
       "        [-0.12945679],\n",
       "        [-0.16576226],\n",
       "        [-0.45456418],\n",
       "        [-0.32755873],\n",
       "        [-0.16039126],\n",
       "        [-0.25808555],\n",
       "        [ 0.14582287],\n",
       "        [ 0.2083086 ],\n",
       "        [-0.18213573],\n",
       "        [ 0.21094806],\n",
       "        [ 0.08099101],\n",
       "        [-0.14239341],\n",
       "        [-0.5077188 ],\n",
       "        [-0.5091815 ],\n",
       "        [ 0.02111725],\n",
       "        [-0.04912892],\n",
       "        [ 0.30820155],\n",
       "        [-0.17632861],\n",
       "        [-0.12251928],\n",
       "        [-0.06930943],\n",
       "        [ 0.0132036 ],\n",
       "        [-0.20321277],\n",
       "        [-0.00425038],\n",
       "        [ 0.10727796],\n",
       "        [-0.07532722],\n",
       "        [ 0.22538488],\n",
       "        [ 0.14766389],\n",
       "        [-0.02089679],\n",
       "        [-0.01635671],\n",
       "        [ 0.24274106],\n",
       "        [ 0.05853522],\n",
       "        [ 0.22275135],\n",
       "        [ 0.07573564],\n",
       "        [ 0.02172038],\n",
       "        [ 0.1184024 ],\n",
       "        [-0.08460378],\n",
       "        [-0.08731284],\n",
       "        [ 0.03200059],\n",
       "        [-0.18833336],\n",
       "        [ 0.07161085],\n",
       "        [ 0.21144673],\n",
       "        [-0.20146662],\n",
       "        [ 0.300025  ],\n",
       "        [ 0.11970939],\n",
       "        [-0.1286392 ],\n",
       "        [ 0.08163282],\n",
       "        [ 0.08545469],\n",
       "        [ 0.07950843],\n",
       "        [ 0.02930838],\n",
       "        [ 0.04994273],\n",
       "        [-0.14718549],\n",
       "        [ 0.14544421]], dtype=float32),\n",
       " array([-0.22652276], dtype=float32)]"
      ]
     },
     "execution_count": 5,
     "metadata": {},
     "output_type": "execute_result"
    }
   ],
   "source": [
    "model.get_weights()"
   ]
  },
  {
   "cell_type": "code",
   "execution_count": 6,
   "metadata": {},
   "outputs": [],
   "source": [
    "# Step 2: Helper Functions\n",
    "# Function to decode reviews\n",
    "def decode_review(encoded_review):\n",
    "    return ' '.join([reverse_word_index.get(i - 3, '?') for i in encoded_review])\n",
    "\n",
    "# Function to preprocess user input\n",
    "def preprocess_text(text):\n",
    "    words = text.lower().split()\n",
    "    encoded_review = [word_index.get(word, 2) + 3 for word in words]\n",
    "    padded_review = sequence.pad_sequences([encoded_review], maxlen=500)\n",
    "    return padded_review"
   ]
  },
  {
   "cell_type": "code",
   "execution_count": 7,
   "metadata": {},
   "outputs": [],
   "source": [
    "### Prediction  function\n",
    "\n",
    "def predict_sentiment(review):\n",
    "    preprocessed_input=preprocess_text(review)\n",
    "\n",
    "    prediction=model.predict(preprocessed_input)\n",
    "\n",
    "    sentiment = 'Positive' if prediction[0][0] > 0.5 else 'Negative'\n",
    "    \n",
    "    return sentiment, prediction[0][0]\n",
    "\n"
   ]
  },
  {
   "cell_type": "code",
   "execution_count": 11,
   "metadata": {},
   "outputs": [
    {
     "name": "stdout",
     "output_type": "stream",
     "text": [
      "\u001b[1m1/1\u001b[0m \u001b[32m━━━━━━━━━━━━━━━━━━━━\u001b[0m\u001b[37m\u001b[0m \u001b[1m0s\u001b[0m 28ms/step\n",
      "Review: This movie is not good.\n",
      "Sentiment: Positive\n",
      "Prediction Score: 0.959890604019165\n"
     ]
    }
   ],
   "source": [
    "# Step 4: User Input and Prediction\n",
    "# Example review for prediction\n",
    "example_review = \"This movie is not good.\"\n",
    "\n",
    "sentiment,score=predict_sentiment(example_review)\n",
    "\n",
    "print(f'Review: {example_review}')\n",
    "print(f'Sentiment: {sentiment}')\n",
    "print(f'Prediction Score: {score}')"
   ]
  },
  {
   "cell_type": "code",
   "execution_count": null,
   "metadata": {},
   "outputs": [],
   "source": []
  },
  {
   "cell_type": "code",
   "execution_count": null,
   "metadata": {},
   "outputs": [],
   "source": []
  },
  {
   "cell_type": "code",
   "execution_count": null,
   "metadata": {},
   "outputs": [],
   "source": []
  },
  {
   "cell_type": "code",
   "execution_count": null,
   "metadata": {},
   "outputs": [],
   "source": []
  }
 ],
 "metadata": {
  "kernelspec": {
   "display_name": "Python 3",
   "language": "python",
   "name": "python3"
  },
  "language_info": {
   "codemirror_mode": {
    "name": "ipython",
    "version": 3
   },
   "file_extension": ".py",
   "mimetype": "text/x-python",
   "name": "python",
   "nbconvert_exporter": "python",
   "pygments_lexer": "ipython3",
   "version": "3.11.0"
  }
 },
 "nbformat": 4,
 "nbformat_minor": 2
}
